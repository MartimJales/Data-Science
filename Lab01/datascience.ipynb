{
 "cells": [
  {
   "cell_type": "code",
   "execution_count": null,
   "metadata": {
    "id": "0q2iG91LFRrg"
   },
   "outputs": [],
   "source": [
    "import pandas as pd\n",
    "import numpy as np\n",
    "import matplotlib.pyplot as plt\n",
    "import seaborn as sns\n",
    "from scipy import stats\n",
    "from sklearn.preprocessing import StandardScaler\n",
    "from dslabs_functions import *"
   ]
  },
  {
   "cell_type": "markdown",
   "metadata": {},
   "source": [
    "# Data Dimensionality"
   ]
  },
  {
   "cell_type": "code",
   "execution_count": null,
   "metadata": {
    "colab": {
     "base_uri": "https://localhost:8080/",
     "height": 254
    },
    "id": "v7OA4RAbFuIn",
    "outputId": "8e0f8e1a-e7c2-4ae2-fdbc-3e0fb79723c5"
   },
   "outputs": [],
   "source": [
    "from pandas import read_csv, DataFrame\n",
    "\n",
    "filename = \"data/class_financial distress.csv\"\n",
    "file_tag = \"class_financial distress\"\n",
    "data: DataFrame = read_csv(filename, na_values=\"\")\n",
    "\n",
    "data.shape"
   ]
  },
  {
   "cell_type": "code",
   "execution_count": null,
   "metadata": {},
   "outputs": [],
   "source": [
    "data.head()"
   ]
  },
  {
   "cell_type": "code",
   "execution_count": null,
   "metadata": {},
   "outputs": [],
   "source": [
    "data.describe()"
   ]
  },
  {
   "cell_type": "code",
   "execution_count": null,
   "metadata": {},
   "outputs": [],
   "source": [
    "from matplotlib.pyplot import figure, savefig, show\n",
    "from dslabs_functions import plot_bar_chart\n",
    "\n",
    "figure(figsize=(4, 2))\n",
    "values: dict[str, int] = {\"nr records\": data.shape[0], \"nr variables\": data.shape[1]}\n",
    "plot_bar_chart(\n",
    "    list(values.keys()), list(values.values()), title=\"Nr of records vs nr variables\"\n",
    ")\n",
    "savefig(f\"images/{file_tag}_records_variables.png\")\n",
    "show()"
   ]
  },
  {
   "cell_type": "code",
   "execution_count": null,
   "metadata": {},
   "outputs": [],
   "source": [
    "data.dtypes"
   ]
  },
  {
   "cell_type": "code",
   "execution_count": null,
   "metadata": {},
   "outputs": [],
   "source": [
    "from pandas import Series, to_numeric, to_datetime\n",
    "\n",
    "\n",
    "def get_variable_types(df: DataFrame) -> dict[str, list]:\n",
    "    variable_types: dict = {\"numeric\": [], \"binary\": [], \"date\": [], \"symbolic\": []}\n",
    "\n",
    "    nr_values: Series = df.nunique(axis=0, dropna=True)\n",
    "    for c in df.columns:\n",
    "        if 2 == nr_values[c]:\n",
    "            variable_types[\"binary\"].append(c)\n",
    "            df[c].astype(\"bool\")\n",
    "        else:\n",
    "            try:\n",
    "                to_numeric(df[c], errors=\"raise\")\n",
    "                variable_types[\"numeric\"].append(c)\n",
    "            except ValueError:\n",
    "                try:\n",
    "                    df[c] = to_datetime(df[c], errors=\"raise\")\n",
    "                    variable_types[\"date\"].append(c)\n",
    "                except ValueError:\n",
    "                    variable_types[\"symbolic\"].append(c)\n",
    "\n",
    "    return variable_types"
   ]
  },
  {
   "cell_type": "code",
   "execution_count": null,
   "metadata": {},
   "outputs": [],
   "source": [
    "variable_types: dict[str, list] = get_variable_types(data)\n",
    "print(variable_types)\n",
    "counts: dict[str, int] = {}\n",
    "for tp in variable_types.keys():\n",
    "    counts[tp] = len(variable_types[tp])\n",
    "\n",
    "figure(figsize=(4, 2))\n",
    "plot_bar_chart(\n",
    "    list(counts.keys()), list(counts.values()), title=\"Nr of variables per type\"\n",
    ")\n",
    "savefig(f\"images/{file_tag}_variable_types.png\")\n",
    "show()"
   ]
  },
  {
   "cell_type": "code",
   "execution_count": null,
   "metadata": {},
   "outputs": [],
   "source": [
    "mv: dict[str, int] = {}\n",
    "for var in data.columns:\n",
    "    nr: int = data[var].isna().sum()\n",
    "    if nr > 0:\n",
    "        mv[var] = nr\n",
    "\n",
    "figure()\n",
    "plot_bar_chart(\n",
    "    list(mv.keys()),\n",
    "    list(mv.values()),\n",
    "    title=\"Nr of missing values per variable\",\n",
    "    xlabel=\"variables\",\n",
    "    ylabel=\"nr missing values\",\n",
    ")\n",
    "savefig(f\"images/{file_tag}_mv.png\")\n",
    "show()"
   ]
  },
  {
   "cell_type": "markdown",
   "metadata": {},
   "source": [
    "# Data Granularity\n"
   ]
  },
  {
   "cell_type": "code",
   "execution_count": null,
   "metadata": {},
   "outputs": [],
   "source": [
    "variable_types: dict[str, list] = get_variable_types(data)\n",
    "print(variable_types)\n",
    "counts: dict[str, int] = {}\n",
    "for tp in variable_types.keys():\n",
    "    counts[tp] = len(variable_types[tp])\n",
    "\n",
    "figure(figsize=(4, 2))\n",
    "plot_bar_chart(\n",
    "    list(counts.keys()), list(counts.values()), title=\"Nr of variables per type\"\n",
    ")\n",
    "savefig(f\"images/{file_tag}_variable_types.png\")\n",
    "show()"
   ]
  },
  {
   "cell_type": "markdown",
   "metadata": {},
   "source": [
    "# Data Distribution"
   ]
  },
  {
   "cell_type": "code",
   "execution_count": null,
   "metadata": {},
   "outputs": [],
   "source": [
    "summary5: DataFrame = data.describe(include=\"all\")\n",
    "summary5"
   ]
  },
  {
   "cell_type": "code",
   "execution_count": null,
   "metadata": {},
   "outputs": [],
   "source": [
    "variables_types: dict[str, list] = get_variable_types(data)\n",
    "numeric: list[str] = variables_types[\"numeric\"]"
   ]
  },
  {
   "cell_type": "code",
   "execution_count": null,
   "metadata": {},
   "outputs": [],
   "source": [
    "from matplotlib.pyplot import savefig, show\n",
    "from dslabs_functions import get_variable_types\n",
    "\n",
    "variables_types: dict[str, list] = get_variable_types(data)\n",
    "numeric: list[str] = variables_types[\"numeric\"]\n",
    "if [] != numeric:\n",
    "    data[numeric].boxplot(rot=45)\n",
    "    savefig(f\"images/{file_tag}_global_boxplot.png\")\n",
    "    show()\n",
    "else:\n",
    "    print(\"There are no numeric variables.\")"
   ]
  },
  {
   "cell_type": "code",
   "execution_count": null,
   "metadata": {},
   "outputs": [],
   "source": [
    "from numpy import ndarray\n",
    "from matplotlib.figure import Figure\n",
    "from matplotlib.pyplot import savefig, show, subplots\n",
    "from dslabs_functions import define_grid, HEIGHT\n",
    "\n",
    "if [] != numeric:\n",
    "    rows: int\n",
    "    cols: int\n",
    "    rows, cols = define_grid(len(numeric))\n",
    "    fig: Figure\n",
    "    axs: ndarray\n",
    "    fig, axs = subplots(\n",
    "        rows, cols, figsize=(cols * HEIGHT, rows * HEIGHT), squeeze=False\n",
    "    )\n",
    "    i, j = 0, 0\n",
    "    for n in range(len(numeric)):\n",
    "        axs[i, j].set_title(\"Boxplot for %s\" % numeric[n])\n",
    "        axs[i, j].boxplot(data[numeric[n]].dropna().values)\n",
    "        i, j = (i + 1, 0) if (n + 1) % cols == 0 else (i, j + 1)\n",
    "    savefig(f\"images/{file_tag}_single_boxplots.png\")\n",
    "    show()\n",
    "else:\n",
    "    print(\"There are no numeric variables.\")"
   ]
  },
  {
   "cell_type": "code",
   "execution_count": null,
   "metadata": {},
   "outputs": [],
   "source": [
    "from pandas import Series\n",
    "from matplotlib.pyplot import figure, savefig, show\n",
    "from dslabs_functions import plot_multibar_chart\n",
    "\n",
    "NR_STDEV: int = 2\n",
    "IQR_FACTOR: float = 1.5\n",
    "\n",
    "\n",
    "def determine_outlier_thresholds_for_var(\n",
    "    summary5: Series, std_based: bool = True, threshold: float = NR_STDEV\n",
    ") -> tuple[float, float]:\n",
    "    top: float = 0\n",
    "    bottom: float = 0\n",
    "    if std_based:\n",
    "        std: float = threshold * summary5[\"std\"]\n",
    "        top = summary5[\"mean\"] + std\n",
    "        bottom = summary5[\"mean\"] - std\n",
    "    else:\n",
    "        iqr: float = threshold * (summary5[\"75%\"] - summary5[\"25%\"])\n",
    "        top = summary5[\"75%\"] + iqr\n",
    "        bottom = summary5[\"25%\"] - iqr\n",
    "\n",
    "    return top, bottom\n",
    "\n",
    "\n",
    "def count_outliers(\n",
    "    data: DataFrame,\n",
    "    numeric: list[str],\n",
    "    nrstdev: int = NR_STDEV,\n",
    "    iqrfactor: float = IQR_FACTOR,\n",
    ") -> dict:\n",
    "    outliers_iqr: list = []\n",
    "    outliers_stdev: list = []\n",
    "    summary5: DataFrame = data[numeric].describe()\n",
    "\n",
    "    for var in numeric:\n",
    "        top: float\n",
    "        bottom: float\n",
    "        top, bottom = determine_outlier_thresholds_for_var(\n",
    "            summary5[var], std_based=True, threshold=nrstdev\n",
    "        )\n",
    "        outliers_stdev += [\n",
    "            data[data[var] > top].count()[var] + data[data[var] < bottom].count()[var]\n",
    "        ]\n",
    "\n",
    "        top, bottom = determine_outlier_thresholds_for_var(\n",
    "            summary5[var], std_based=False, threshold=iqrfactor\n",
    "        )\n",
    "        outliers_iqr += [\n",
    "            data[data[var] > top].count()[var] + data[data[var] < bottom].count()[var]\n",
    "        ]\n",
    "\n",
    "    return {\"iqr\": outliers_iqr, \"stdev\": outliers_stdev}\n",
    "\n",
    "\n",
    "if [] != numeric:\n",
    "    outliers: dict[str, int] = count_outliers(data, numeric)\n",
    "    figure(figsize=(50, HEIGHT))\n",
    "    plot_multibar_chart(\n",
    "        numeric,\n",
    "        outliers,\n",
    "        title=\"Nr of standard outliers per variable\",\n",
    "        xlabel=\"variables\",\n",
    "        ylabel=\"nr outliers\",\n",
    "        percentage=False,\n",
    "    )\n",
    "    savefig(f\"images/{file_tag}_outliers_standard.png\")\n",
    "    show()\n",
    "else:\n",
    "    print(\"There are no numeric variables.\")"
   ]
  },
  {
   "cell_type": "code",
   "execution_count": null,
   "metadata": {},
   "outputs": [],
   "source": [
    "from dslabs_functions import set_chart_labels\n",
    "\n",
    "import math\n",
    "\n",
    "HEIGHT = 4  # Height scaling for each plot\n",
    "cols = 3    # Number of columns in the grid\n",
    "rows = math.ceil(len(numeric) / cols)  # Calculate rows based on the number of variables\n",
    "\n",
    "if [] != numeric:\n",
    "    fig, axs = subplots(\n",
    "        rows, cols, figsize=(cols * HEIGHT, rows * HEIGHT), squeeze=False\n",
    "    )\n",
    "    i: int\n",
    "    j: int\n",
    "    i, j = 0, 0\n",
    "    for n in range(len(numeric)):\n",
    "        set_chart_labels(\n",
    "            axs[i, j],\n",
    "            title=f\"Histogram for {numeric[n]}\",\n",
    "            xlabel=numeric[n],\n",
    "            ylabel=\"nr records\",\n",
    "        )\n",
    "        axs[i, j].hist(data[numeric[n]].dropna().values, \"auto\")\n",
    "        i, j = (i + 1, 0) if (n + 1) % cols == 0 else (i, j + 1)\n",
    "    savefig(f\"images/{file_tag}_single_histograms_numeric.png\")\n",
    "    show()\n",
    "else:\n",
    "    print(\"There are no numeric variables.\")"
   ]
  },
  {
   "cell_type": "code",
   "execution_count": null,
   "metadata": {},
   "outputs": [],
   "source": [
    "from numpy import log\n",
    "from pandas import Series\n",
    "from scipy.stats import norm, expon, lognorm\n",
    "from matplotlib.axes import Axes\n",
    "from dslabs_functions import plot_multiline_chart\n",
    "\n",
    "\n",
    "def compute_known_distributions(x_values: list) -> dict:\n",
    "    distributions = dict()\n",
    "    # Gaussian\n",
    "    mean, sigma = norm.fit(x_values)\n",
    "    distributions[\"Normal(%.1f,%.2f)\" % (mean, sigma)] = norm.pdf(x_values, mean, sigma)\n",
    "    # Exponential\n",
    "    loc, scale = expon.fit(x_values)\n",
    "    distributions[\"Exp(%.2f)\" % (1 / scale)] = expon.pdf(x_values, loc, scale)\n",
    "    # LogNorm\n",
    "    sigma, loc, scale = lognorm.fit(x_values)\n",
    "    distributions[\"LogNor(%.1f,%.2f)\" % (log(scale), sigma)] = lognorm.pdf(\n",
    "        x_values, sigma, loc, scale\n",
    "    )\n",
    "    return distributions\n",
    "\n",
    "\n",
    "def histogram_with_distributions(ax: Axes, series: Series, var: str):\n",
    "    values: list = series.sort_values().to_list()\n",
    "    ax.hist(values, 20, density=True)\n",
    "    distributions: dict = compute_known_distributions(values)\n",
    "    plot_multiline_chart(\n",
    "        values,\n",
    "        distributions,\n",
    "        ax=ax,\n",
    "        title=\"Best fit for %s\" % var,\n",
    "        xlabel=var,\n",
    "        ylabel=\"\",\n",
    "    )\n",
    "\n",
    "\n",
    "if [] != numeric:\n",
    "    fig, axs = subplots(\n",
    "        rows, cols, figsize=(cols * HEIGHT, rows * HEIGHT), squeeze=False\n",
    "    )\n",
    "    i, j = 0, 0\n",
    "    for n in range(len(numeric)):\n",
    "        histogram_with_distributions(axs[i, j], data[numeric[n]].dropna(), numeric[n])\n",
    "        i, j = (i + 1, 0) if (n + 1) % cols == 0 else (i, j + 1)\n",
    "    savefig(f\"images/{file_tag}_histogram_numeric_distribution.png\")\n",
    "    show()\n",
    "else:\n",
    "    print(\"There are no numeric variables.\")"
   ]
  },
  {
   "cell_type": "code",
   "execution_count": null,
   "metadata": {},
   "outputs": [],
   "source": [
    "from dslabs_functions import plot_bar_chart\n",
    "\n",
    "symbolic: list[str] = variables_types[\"symbolic\"] + variables_types[\"binary\"]\n",
    "if [] != symbolic:\n",
    "    rows, cols = define_grid(len(symbolic))\n",
    "    fig, axs = subplots(\n",
    "        rows, cols, figsize=(cols * HEIGHT, rows * HEIGHT), squeeze=False\n",
    "    )\n",
    "    i, j = 0, 0\n",
    "    for n in range(len(symbolic)):\n",
    "        counts: Series = data[symbolic[n]].value_counts()\n",
    "        plot_bar_chart(\n",
    "            counts.index.to_list(),\n",
    "            counts.to_list(),\n",
    "            ax=axs[i, j],\n",
    "            title=\"Histogram for %s\" % symbolic[n],\n",
    "            xlabel=symbolic[n],\n",
    "            ylabel=\"nr records\",\n",
    "            percentage=False,\n",
    "        )\n",
    "        i, j = (i + 1, 0) if (n + 1) % cols == 0 else (i, j + 1)\n",
    "    savefig(f\"images/{file_tag}_histograms_symbolic.png\")\n",
    "    show()\n",
    "else:\n",
    "    print(\"There are no symbolic variables.\")"
   ]
  },
  {
   "cell_type": "code",
   "execution_count": null,
   "metadata": {},
   "outputs": [],
   "source": [
    "target = \"CLASS\"\n",
    "\n",
    "values: Series = data[target].value_counts()\n",
    "print(values)\n",
    "\n",
    "figure(figsize=(4, 2))\n",
    "plot_bar_chart(\n",
    "    values.index.to_list(),\n",
    "    values.to_list(),\n",
    "    title=f\"Target distribution (target={target})\",\n",
    ")\n",
    "savefig(f\"images/{file_tag}_class_distribution.png\")\n",
    "show()"
   ]
  },
  {
   "cell_type": "markdown",
   "metadata": {
    "id": "Bh-vbTTVMKwr"
   },
   "source": [
    "# Sparsity"
   ]
  },
  {
   "cell_type": "code",
   "execution_count": null,
   "metadata": {},
   "outputs": [],
   "source": [
    "# from numpy import ndarray\n",
    "# from pandas import read_csv, DataFrame\n",
    "# from matplotlib.figure import Figure\n",
    "# from matplotlib.pyplot import figure, subplots, savefig, show\n",
    "# from dslabs_functions import HEIGHT, plot_multi_scatters_chart\n",
    "\n",
    "# vars: list = data.columns.to_list()\n",
    "# if [] != vars:\n",
    "#     target = \"CLASS\"\n",
    "\n",
    "#     n: int = len(vars) - 1\n",
    "#     fig: Figure\n",
    "#     axs: ndarray\n",
    "#     fig, axs = subplots(n, n, figsize=(n * HEIGHT, n * HEIGHT), squeeze=False)\n",
    "#     for i in range(len(vars)):\n",
    "#         var1: str = vars[i]\n",
    "#         for j in range(i + 1, len(vars)):\n",
    "#             var2: str = vars[j]\n",
    "#             plot_multi_scatters_chart(data, var1, var2, ax=axs[i, j - 1])\n",
    "#     savefig(f\"images/{file_tag}_sparsity_study.png\")\n",
    "#     show()\n",
    "# else:\n",
    "#     print(\"Sparsity class: there are no variables.\")"
   ]
  },
  {
   "cell_type": "markdown",
   "metadata": {},
   "source": [
    "### The next code is the right one, I think"
   ]
  },
  {
   "cell_type": "code",
   "execution_count": null,
   "metadata": {},
   "outputs": [],
   "source": [
    "if [] != vars:\n",
    "    target = \"CLASS\"\n",
    "\n",
    "    n: int = len(vars) - 1\n",
    "    fig, axs = subplots(n, n, figsize=(n * HEIGHT, n * HEIGHT), squeeze=False)\n",
    "    for i in range(len(vars)):\n",
    "        var1: str = vars[i]\n",
    "        for j in range(i + 1, len(vars)):\n",
    "            var2: str = vars[j]\n",
    "            plot_multi_scatters_chart(data, var1, var2, target, ax=axs[i, j - 1])\n",
    "    savefig(f\"images/{file_tag}_sparsity_per_class_study.png\")\n",
    "    show()\n",
    "else:\n",
    "    print(\"Sparsity per class: there are no variables.\")"
   ]
  },
  {
   "cell_type": "code",
   "execution_count": null,
   "metadata": {},
   "outputs": [],
   "source": [
    "from seaborn import heatmap\n",
    "from matplotlib.pyplot import figure, savefig, show\n",
    "from dslabs_functions import get_variable_types\n",
    "\n",
    "# Define your target variable\n",
    "target = \"CLASS\"  # Replace with the actual name of your target variable\n",
    "\n",
    "# Get numeric variable types\n",
    "variables_types: dict[str, list] = get_variable_types(data)\n",
    "numeric: list[str] = variables_types[\"numeric\"]\n",
    "\n",
    "# Add the target variable to the numeric list if it's not already included\n",
    "if target not in numeric:\n",
    "    numeric.append(target)\n",
    "\n",
    "# Compute correlation matrix (including the target)\n",
    "corr_mtx: DataFrame = data[numeric].corr().abs()\n",
    "\n",
    "# Set figure size for better readability\n",
    "figure(figsize=(15, 15))  # Adjust width and height as needed\n",
    "heatmap(\n",
    "    corr_mtx,\n",
    "    xticklabels=numeric,\n",
    "    yticklabels=numeric,\n",
    "    fmt=\".2f\",           # Format numbers to 2 decimal places\n",
    "    annot=True,          # Display correlation values\n",
    "    cmap=\"Blues\",\n",
    "    vmin=0,\n",
    "    vmax=1,\n",
    "    square=True,         # Ensures cells are square\n",
    "    cbar_kws={\"shrink\": 0.75},  # Adjust color bar size\n",
    "    annot_kws={\"size\": 3},      # Adjust font size for annotations\n",
    ")\n",
    "\n",
    "# Save and display the heatmap\n",
    "savefig(f\"images/{file_tag}_correlation_analysis_with_target.png\", dpi=300)  # Increase DPI for higher resolution\n",
    "show()\n"
   ]
  }
 ],
 "metadata": {
  "colab": {
   "provenance": []
  },
  "kernelspec": {
   "display_name": "usr",
   "language": "python",
   "name": "python3"
  },
  "language_info": {
   "codemirror_mode": {
    "name": "ipython",
    "version": 3
   },
   "file_extension": ".py",
   "mimetype": "text/x-python",
   "name": "python",
   "nbconvert_exporter": "python",
   "pygments_lexer": "ipython3",
   "version": "3.10.12"
  }
 },
 "nbformat": 4,
 "nbformat_minor": 0
}
